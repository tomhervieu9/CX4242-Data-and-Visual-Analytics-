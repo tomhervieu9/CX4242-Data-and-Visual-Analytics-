{
 "cells": [
  {
   "cell_type": "code",
   "execution_count": 188,
   "metadata": {
    "collapsed": false
   },
   "outputs": [],
   "source": [
    "import pandas as pd\n",
    "from sklearn.ensemble import RandomForestRegressor\n",
    "from sklearn.linear_model import Ridge, Lasso\n",
    "from sklearn.model_selection import KFold\n",
    "from sklearn.metrics import mean_squared_error, mean_absolute_error\n",
    "from sklearn.ensemble import GradientBoostingRegressor, AdaBoostRegressor\n",
    "import seaborn as sns\n",
    "import matplotlib.pyplot as plt\n",
    "import numpy as np\n",
    "\n",
    "sns.set_style()\n",
    "%matplotlib inline"
   ]
  },
  {
   "cell_type": "markdown",
   "metadata": {},
   "source": [
    "# NYC"
   ]
  },
  {
   "cell_type": "code",
   "execution_count": 189,
   "metadata": {
    "collapsed": true
   },
   "outputs": [],
   "source": [
    "def build_df(city, date_range):\n",
    "    dfs = []\n",
    "    for year in date_range:\n",
    "        df = pd.read_csv('{}/{}-summarized.csv'.format(city, year))\n",
    "        df['year'] = year\n",
    "        dfs.append(df)\n",
    "    return pd.concat(dfs).fillna(0)"
   ]
  },
  {
   "cell_type": "code",
   "execution_count": 190,
   "metadata": {
    "collapsed": false
   },
   "outputs": [
    {
     "data": {
      "text/html": [
       "<div>\n",
       "<table border=\"1\" class=\"dataframe\">\n",
       "  <thead>\n",
       "    <tr style=\"text-align: right;\">\n",
       "      <th></th>\n",
       "      <th>AGENCY</th>\n",
       "      <th>APPLIANCE</th>\n",
       "      <th>Adopt-A-Basket</th>\n",
       "      <th>Advocate - Other</th>\n",
       "      <th>Advocate - RPIE</th>\n",
       "      <th>Advocate-Business Tax</th>\n",
       "      <th>Advocate-Co-opCondo Abatement</th>\n",
       "      <th>Advocate-Commercial Exemptions</th>\n",
       "      <th>Advocate-Personal Exemptions</th>\n",
       "      <th>Advocate-Prop Class Incorrect</th>\n",
       "      <th>...</th>\n",
       "      <th>WATER LEAK</th>\n",
       "      <th>Water Conservation</th>\n",
       "      <th>Water Quality</th>\n",
       "      <th>Water System</th>\n",
       "      <th>Weatherization</th>\n",
       "      <th>Window Guard</th>\n",
       "      <th>X-Ray Machine/Equipment</th>\n",
       "      <th>price</th>\n",
       "      <th>year</th>\n",
       "      <th>zipcode</th>\n",
       "    </tr>\n",
       "  </thead>\n",
       "  <tbody>\n",
       "    <tr>\n",
       "      <th>0</th>\n",
       "      <td>0.0</td>\n",
       "      <td>0.0</td>\n",
       "      <td>0.0</td>\n",
       "      <td>0.0</td>\n",
       "      <td>0.0</td>\n",
       "      <td>0.0</td>\n",
       "      <td>0.0</td>\n",
       "      <td>0.0</td>\n",
       "      <td>0.0</td>\n",
       "      <td>0.0</td>\n",
       "      <td>...</td>\n",
       "      <td>0.0</td>\n",
       "      <td>0.0</td>\n",
       "      <td>0.0</td>\n",
       "      <td>0.0</td>\n",
       "      <td>0.0</td>\n",
       "      <td>0.0</td>\n",
       "      <td>0.0</td>\n",
       "      <td>175308.333333</td>\n",
       "      <td>2012</td>\n",
       "      <td>14450</td>\n",
       "    </tr>\n",
       "    <tr>\n",
       "      <th>1</th>\n",
       "      <td>0.0</td>\n",
       "      <td>0.0</td>\n",
       "      <td>0.0</td>\n",
       "      <td>0.0</td>\n",
       "      <td>0.0</td>\n",
       "      <td>0.0</td>\n",
       "      <td>0.0</td>\n",
       "      <td>0.0</td>\n",
       "      <td>0.0</td>\n",
       "      <td>0.0</td>\n",
       "      <td>...</td>\n",
       "      <td>0.0</td>\n",
       "      <td>0.0</td>\n",
       "      <td>0.0</td>\n",
       "      <td>0.0</td>\n",
       "      <td>0.0</td>\n",
       "      <td>0.0</td>\n",
       "      <td>0.0</td>\n",
       "      <td>137708.333333</td>\n",
       "      <td>2012</td>\n",
       "      <td>29601</td>\n",
       "    </tr>\n",
       "    <tr>\n",
       "      <th>2</th>\n",
       "      <td>0.0</td>\n",
       "      <td>82.0</td>\n",
       "      <td>0.0</td>\n",
       "      <td>0.0</td>\n",
       "      <td>0.0</td>\n",
       "      <td>0.0</td>\n",
       "      <td>0.0</td>\n",
       "      <td>0.0</td>\n",
       "      <td>0.0</td>\n",
       "      <td>0.0</td>\n",
       "      <td>...</td>\n",
       "      <td>0.0</td>\n",
       "      <td>13.0</td>\n",
       "      <td>11.0</td>\n",
       "      <td>345.0</td>\n",
       "      <td>0.0</td>\n",
       "      <td>0.0</td>\n",
       "      <td>0.0</td>\n",
       "      <td>110533.333333</td>\n",
       "      <td>2012</td>\n",
       "      <td>10462</td>\n",
       "    </tr>\n",
       "    <tr>\n",
       "      <th>3</th>\n",
       "      <td>0.0</td>\n",
       "      <td>0.0</td>\n",
       "      <td>0.0</td>\n",
       "      <td>0.0</td>\n",
       "      <td>0.0</td>\n",
       "      <td>0.0</td>\n",
       "      <td>0.0</td>\n",
       "      <td>0.0</td>\n",
       "      <td>0.0</td>\n",
       "      <td>0.0</td>\n",
       "      <td>...</td>\n",
       "      <td>0.0</td>\n",
       "      <td>0.0</td>\n",
       "      <td>0.0</td>\n",
       "      <td>0.0</td>\n",
       "      <td>0.0</td>\n",
       "      <td>0.0</td>\n",
       "      <td>0.0</td>\n",
       "      <td>306575.000000</td>\n",
       "      <td>2012</td>\n",
       "      <td>10703</td>\n",
       "    </tr>\n",
       "    <tr>\n",
       "      <th>4</th>\n",
       "      <td>0.0</td>\n",
       "      <td>0.0</td>\n",
       "      <td>0.0</td>\n",
       "      <td>0.0</td>\n",
       "      <td>0.0</td>\n",
       "      <td>0.0</td>\n",
       "      <td>0.0</td>\n",
       "      <td>0.0</td>\n",
       "      <td>0.0</td>\n",
       "      <td>0.0</td>\n",
       "      <td>...</td>\n",
       "      <td>0.0</td>\n",
       "      <td>0.0</td>\n",
       "      <td>0.0</td>\n",
       "      <td>0.0</td>\n",
       "      <td>0.0</td>\n",
       "      <td>0.0</td>\n",
       "      <td>0.0</td>\n",
       "      <td>394108.333333</td>\n",
       "      <td>2012</td>\n",
       "      <td>11710</td>\n",
       "    </tr>\n",
       "  </tbody>\n",
       "</table>\n",
       "<p>5 rows × 247 columns</p>\n",
       "</div>"
      ],
      "text/plain": [
       "   AGENCY  APPLIANCE  Adopt-A-Basket  Advocate - Other  Advocate - RPIE  \\\n",
       "0     0.0        0.0             0.0               0.0              0.0   \n",
       "1     0.0        0.0             0.0               0.0              0.0   \n",
       "2     0.0       82.0             0.0               0.0              0.0   \n",
       "3     0.0        0.0             0.0               0.0              0.0   \n",
       "4     0.0        0.0             0.0               0.0              0.0   \n",
       "\n",
       "   Advocate-Business Tax  Advocate-Co-opCondo Abatement  \\\n",
       "0                    0.0                            0.0   \n",
       "1                    0.0                            0.0   \n",
       "2                    0.0                            0.0   \n",
       "3                    0.0                            0.0   \n",
       "4                    0.0                            0.0   \n",
       "\n",
       "   Advocate-Commercial Exemptions  Advocate-Personal Exemptions  \\\n",
       "0                             0.0                           0.0   \n",
       "1                             0.0                           0.0   \n",
       "2                             0.0                           0.0   \n",
       "3                             0.0                           0.0   \n",
       "4                             0.0                           0.0   \n",
       "\n",
       "   Advocate-Prop Class Incorrect   ...     WATER LEAK  Water Conservation  \\\n",
       "0                            0.0   ...            0.0                 0.0   \n",
       "1                            0.0   ...            0.0                 0.0   \n",
       "2                            0.0   ...            0.0                13.0   \n",
       "3                            0.0   ...            0.0                 0.0   \n",
       "4                            0.0   ...            0.0                 0.0   \n",
       "\n",
       "   Water Quality  Water System  Weatherization  Window Guard  \\\n",
       "0            0.0           0.0             0.0           0.0   \n",
       "1            0.0           0.0             0.0           0.0   \n",
       "2           11.0         345.0             0.0           0.0   \n",
       "3            0.0           0.0             0.0           0.0   \n",
       "4            0.0           0.0             0.0           0.0   \n",
       "\n",
       "   X-Ray Machine/Equipment          price  year  zipcode  \n",
       "0                      0.0  175308.333333  2012    14450  \n",
       "1                      0.0  137708.333333  2012    29601  \n",
       "2                      0.0  110533.333333  2012    10462  \n",
       "3                      0.0  306575.000000  2012    10703  \n",
       "4                      0.0  394108.333333  2012    11710  \n",
       "\n",
       "[5 rows x 247 columns]"
      ]
     },
     "execution_count": 190,
     "metadata": {},
     "output_type": "execute_result"
    }
   ],
   "source": [
    "nyc_df = build_df('nyc', range(2012, 2017))\n",
    "nyc_df.head()"
   ]
  },
  {
   "cell_type": "code",
   "execution_count": 191,
   "metadata": {
    "collapsed": true
   },
   "outputs": [],
   "source": [
    "complaints = nyc_df.drop(['price', 'year', 'zipcode'], axis=1)\n",
    "nyc_df['total_complaints'] = complaints.sum(1)"
   ]
  },
  {
   "cell_type": "code",
   "execution_count": 192,
   "metadata": {
    "collapsed": false
   },
   "outputs": [],
   "source": [
    "nyc_X = nyc_df.drop(['price', 'year', 'zipcode'], 1)\n",
    "nyc_columns = nyc_X.columns\n",
    "nyc_X = np.array(nyc_X)\n",
    "nyc_y = np.array(nyc_df.loc[:, 'price'])"
   ]
  },
  {
   "cell_type": "code",
   "execution_count": 193,
   "metadata": {
    "collapsed": false
   },
   "outputs": [],
   "source": [
    "def evaluate_regressor(regressor, X, y):\n",
    "    kf = KFold(10)\n",
    "\n",
    "    mse = []\n",
    "\n",
    "    for train_idx, test_idx in kf.split(X):\n",
    "        X_train, X_test = X[train_idx, :], X[test_idx, :]\n",
    "        y_train, y_test = y[train_idx], y[test_idx]\n",
    "        regressor.fit(X_train, y_train)\n",
    "        predictions = regressor.predict(X_test)\n",
    "        mse.append(mean_absolute_error(y_test, predictions))\n",
    "    \n",
    "    print('Average MSE: {}'.format(sum(mse) / len(mse)))\n",
    "    #return regressor, sum(mse) / len(mse), mse"
   ]
  },
  {
   "cell_type": "code",
   "execution_count": 194,
   "metadata": {
    "collapsed": false
   },
   "outputs": [],
   "source": [
    "from sklearn.feature_selection import SelectKBest, f_regression"
   ]
  },
  {
   "cell_type": "code",
   "execution_count": 195,
   "metadata": {
    "collapsed": false
   },
   "outputs": [],
   "source": [
    "kbest = SelectKBest(f_regression, 50)\n",
    "#X = kbest.fit_transform(nyc_X, nyc_y)\n",
    "#nyc_columns = nyc_columns[kbest.get_support()]\n",
    "X = nyc_X\n",
    "y = nyc_y"
   ]
  },
  {
   "cell_type": "code",
   "execution_count": 196,
   "metadata": {
    "collapsed": false,
    "scrolled": true
   },
   "outputs": [
    {
     "name": "stdout",
     "output_type": "stream",
     "text": [
      "Average MSE: 128981.1205646792\n",
      "Average MSE: 248148.86650398228\n",
      "Average MSE: 128033.211992461\n",
      "Average MSE: 202519.03365149157\n"
     ]
    },
    {
     "name": "stderr",
     "output_type": "stream",
     "text": [
      "/home/sam/anaconda3/lib/python3.5/site-packages/sklearn/linear_model/coordinate_descent.py:484: ConvergenceWarning: Objective did not converge. You might want to increase the number of iterations. Fitting data with very small alpha may cause precision problems.\n",
      "  ConvergenceWarning)\n"
     ]
    },
    {
     "name": "stdout",
     "output_type": "stream",
     "text": [
      "Average MSE: 204283.393540045\n"
     ]
    }
   ],
   "source": [
    "random_forest = RandomForestRegressor(n_estimators=100, n_jobs=-1)\n",
    "ada = AdaBoostRegressor()\n",
    "grad = GradientBoostingRegressor()\n",
    "ridge = Ridge(1e-3, normalize=True, max_iter=10000)\n",
    "lasso = Lasso(1e-3, normalize=True, max_iter=10000)\n",
    "\n",
    "evaluate_regressor(random_forest,X,y)\n",
    "evaluate_regressor(ada,X,y)\n",
    "evaluate_regressor(grad,X,y)\n",
    "evaluate_regressor(ridge,X,y)\n",
    "evaluate_regressor(lasso,X,y)"
   ]
  },
  {
   "cell_type": "code",
   "execution_count": 197,
   "metadata": {
    "collapsed": true
   },
   "outputs": [],
   "source": [
    "def important_features(coeffs, n):\n",
    "    idx = np.argsort(-abs(coeffs))[:n]\n",
    "    for i in idx:\n",
    "        print(\"Parameter: '{}' had an effect of size: {}\".format(nyc_columns[i], coeffs[i]))"
   ]
  },
  {
   "cell_type": "code",
   "execution_count": 198,
   "metadata": {
    "collapsed": false
   },
   "outputs": [
    {
     "name": "stdout",
     "output_type": "stream",
     "text": [
      "Parameter: 'EAP Inspection - F59' had an effect of size: 0.2679075617266545\n",
      "Parameter: 'Taxi Complaint' had an effect of size: 0.22185698816712418\n",
      "Parameter: 'Noise' had an effect of size: 0.05365448616301812\n",
      "Parameter: 'Traffic' had an effect of size: 0.0486291200070852\n",
      "Parameter: 'ELECTRIC' had an effect of size: 0.03304108138206814\n",
      "Parameter: 'total_complaints' had an effect of size: 0.029819493923828686\n",
      "Parameter: 'Consumer Complaint' had an effect of size: 0.02143817667215063\n",
      "Parameter: 'DOF Parking - Tax Exemption' had an effect of size: 0.02090475333902773\n",
      "Parameter: 'Taxi Report' had an effect of size: 0.018744573010512328\n",
      "Parameter: 'Fire Safety Director - F58' had an effect of size: 0.017265517891927068\n"
     ]
    }
   ],
   "source": [
    "important_features(random_forest.feature_importances_, 10)"
   ]
  },
  {
   "cell_type": "code",
   "execution_count": 199,
   "metadata": {
    "collapsed": false
   },
   "outputs": [
    {
     "name": "stdout",
     "output_type": "stream",
     "text": [
      "Parameter: 'Consumer Complaint' had an effect of size: 0.0700091340000471\n",
      "Parameter: 'Taxi Complaint' had an effect of size: 0.055984199954920266\n",
      "Parameter: 'Taxi Report' had an effect of size: 0.04881870249596333\n",
      "Parameter: 'For Hire Vehicle Report' had an effect of size: 0.03351219757570009\n",
      "Parameter: 'Found Property' had an effect of size: 0.0318022431894867\n",
      "Parameter: 'ELECTRIC' had an effect of size: 0.03139606912284433\n",
      "Parameter: 'DOF Parking - Tax Exemption' had an effect of size: 0.03074403839381417\n",
      "Parameter: 'Housing Options' had an effect of size: 0.030332682086798613\n",
      "Parameter: 'Noise' had an effect of size: 0.025974347317166614\n",
      "Parameter: 'total_complaints' had an effect of size: 0.02566609562882687\n"
     ]
    }
   ],
   "source": [
    "important_features(grad.feature_importances_, 10)"
   ]
  },
  {
   "cell_type": "markdown",
   "metadata": {},
   "source": [
    "# LA"
   ]
  },
  {
   "cell_type": "code",
   "execution_count": 200,
   "metadata": {
    "collapsed": false
   },
   "outputs": [
    {
     "data": {
      "text/html": [
       "<div>\n",
       "<table border=\"1\" class=\"dataframe\">\n",
       "  <thead>\n",
       "    <tr style=\"text-align: right;\">\n",
       "      <th></th>\n",
       "      <th>City Administrative Officer</th>\n",
       "      <th>City Attorney's Office</th>\n",
       "      <th>City Ethics Commission</th>\n",
       "      <th>Community Redevelopment Agency</th>\n",
       "      <th>Council District 01</th>\n",
       "      <th>Council District 02</th>\n",
       "      <th>Council District 03</th>\n",
       "      <th>Council District 04</th>\n",
       "      <th>Council District 05</th>\n",
       "      <th>Council District 06</th>\n",
       "      <th>...</th>\n",
       "      <th>PW/Board of Public Works</th>\n",
       "      <th>PW/Bureau of Contract Administration</th>\n",
       "      <th>PW/Bureau of Engineering</th>\n",
       "      <th>PW/Bureau of Sanitation</th>\n",
       "      <th>PW/Bureau of Street Lighting</th>\n",
       "      <th>PW/Bureau of Street Services</th>\n",
       "      <th>Personnel Department</th>\n",
       "      <th>price</th>\n",
       "      <th>year</th>\n",
       "      <th>zipcode</th>\n",
       "    </tr>\n",
       "  </thead>\n",
       "  <tbody>\n",
       "    <tr>\n",
       "      <th>0</th>\n",
       "      <td>2.0</td>\n",
       "      <td>40.0</td>\n",
       "      <td>0.0</td>\n",
       "      <td>1.0</td>\n",
       "      <td>1.0</td>\n",
       "      <td>1.0</td>\n",
       "      <td>0.0</td>\n",
       "      <td>3.0</td>\n",
       "      <td>3.0</td>\n",
       "      <td>0.0</td>\n",
       "      <td>...</td>\n",
       "      <td>918.0</td>\n",
       "      <td>7.0</td>\n",
       "      <td>26.0</td>\n",
       "      <td>2890.0</td>\n",
       "      <td>601.0</td>\n",
       "      <td>730.0</td>\n",
       "      <td>18.0</td>\n",
       "      <td>556266.666667</td>\n",
       "      <td>2011</td>\n",
       "      <td>90019</td>\n",
       "    </tr>\n",
       "    <tr>\n",
       "      <th>1</th>\n",
       "      <td>0.0</td>\n",
       "      <td>0.0</td>\n",
       "      <td>0.0</td>\n",
       "      <td>0.0</td>\n",
       "      <td>0.0</td>\n",
       "      <td>0.0</td>\n",
       "      <td>0.0</td>\n",
       "      <td>0.0</td>\n",
       "      <td>0.0</td>\n",
       "      <td>0.0</td>\n",
       "      <td>...</td>\n",
       "      <td>1.0</td>\n",
       "      <td>0.0</td>\n",
       "      <td>0.0</td>\n",
       "      <td>0.0</td>\n",
       "      <td>0.0</td>\n",
       "      <td>0.0</td>\n",
       "      <td>0.0</td>\n",
       "      <td>319333.333333</td>\n",
       "      <td>2011</td>\n",
       "      <td>75039</td>\n",
       "    </tr>\n",
       "    <tr>\n",
       "      <th>2</th>\n",
       "      <td>2.0</td>\n",
       "      <td>15.0</td>\n",
       "      <td>0.0</td>\n",
       "      <td>1.0</td>\n",
       "      <td>0.0</td>\n",
       "      <td>1.0</td>\n",
       "      <td>24.0</td>\n",
       "      <td>0.0</td>\n",
       "      <td>1.0</td>\n",
       "      <td>0.0</td>\n",
       "      <td>...</td>\n",
       "      <td>89.0</td>\n",
       "      <td>5.0</td>\n",
       "      <td>36.0</td>\n",
       "      <td>1078.0</td>\n",
       "      <td>163.0</td>\n",
       "      <td>458.0</td>\n",
       "      <td>2.0</td>\n",
       "      <td>484600.000000</td>\n",
       "      <td>2011</td>\n",
       "      <td>91367</td>\n",
       "    </tr>\n",
       "    <tr>\n",
       "      <th>3</th>\n",
       "      <td>0.0</td>\n",
       "      <td>0.0</td>\n",
       "      <td>0.0</td>\n",
       "      <td>0.0</td>\n",
       "      <td>0.0</td>\n",
       "      <td>0.0</td>\n",
       "      <td>0.0</td>\n",
       "      <td>0.0</td>\n",
       "      <td>0.0</td>\n",
       "      <td>0.0</td>\n",
       "      <td>...</td>\n",
       "      <td>0.0</td>\n",
       "      <td>0.0</td>\n",
       "      <td>0.0</td>\n",
       "      <td>0.0</td>\n",
       "      <td>0.0</td>\n",
       "      <td>0.0</td>\n",
       "      <td>0.0</td>\n",
       "      <td>145500.000000</td>\n",
       "      <td>2011</td>\n",
       "      <td>33569</td>\n",
       "    </tr>\n",
       "    <tr>\n",
       "      <th>4</th>\n",
       "      <td>0.0</td>\n",
       "      <td>0.0</td>\n",
       "      <td>0.0</td>\n",
       "      <td>0.0</td>\n",
       "      <td>0.0</td>\n",
       "      <td>0.0</td>\n",
       "      <td>0.0</td>\n",
       "      <td>0.0</td>\n",
       "      <td>0.0</td>\n",
       "      <td>0.0</td>\n",
       "      <td>...</td>\n",
       "      <td>0.0</td>\n",
       "      <td>0.0</td>\n",
       "      <td>0.0</td>\n",
       "      <td>0.0</td>\n",
       "      <td>0.0</td>\n",
       "      <td>0.0</td>\n",
       "      <td>0.0</td>\n",
       "      <td>175016.666667</td>\n",
       "      <td>2011</td>\n",
       "      <td>14450</td>\n",
       "    </tr>\n",
       "  </tbody>\n",
       "</table>\n",
       "<p>5 rows × 64 columns</p>\n",
       "</div>"
      ],
      "text/plain": [
       "   City Administrative Officer  City Attorney's Office  \\\n",
       "0                          2.0                    40.0   \n",
       "1                          0.0                     0.0   \n",
       "2                          2.0                    15.0   \n",
       "3                          0.0                     0.0   \n",
       "4                          0.0                     0.0   \n",
       "\n",
       "   City Ethics Commission  Community Redevelopment Agency  \\\n",
       "0                     0.0                             1.0   \n",
       "1                     0.0                             0.0   \n",
       "2                     0.0                             1.0   \n",
       "3                     0.0                             0.0   \n",
       "4                     0.0                             0.0   \n",
       "\n",
       "   Council District 01  Council District 02  Council District 03  \\\n",
       "0                  1.0                  1.0                  0.0   \n",
       "1                  0.0                  0.0                  0.0   \n",
       "2                  0.0                  1.0                 24.0   \n",
       "3                  0.0                  0.0                  0.0   \n",
       "4                  0.0                  0.0                  0.0   \n",
       "\n",
       "   Council District 04  Council District 05  Council District 06   ...     \\\n",
       "0                  3.0                  3.0                  0.0   ...      \n",
       "1                  0.0                  0.0                  0.0   ...      \n",
       "2                  0.0                  1.0                  0.0   ...      \n",
       "3                  0.0                  0.0                  0.0   ...      \n",
       "4                  0.0                  0.0                  0.0   ...      \n",
       "\n",
       "   PW/Board of Public Works  PW/Bureau of Contract Administration  \\\n",
       "0                     918.0                                   7.0   \n",
       "1                       1.0                                   0.0   \n",
       "2                      89.0                                   5.0   \n",
       "3                       0.0                                   0.0   \n",
       "4                       0.0                                   0.0   \n",
       "\n",
       "   PW/Bureau of Engineering  PW/Bureau of Sanitation  \\\n",
       "0                      26.0                   2890.0   \n",
       "1                       0.0                      0.0   \n",
       "2                      36.0                   1078.0   \n",
       "3                       0.0                      0.0   \n",
       "4                       0.0                      0.0   \n",
       "\n",
       "   PW/Bureau of Street Lighting  PW/Bureau of Street Services  \\\n",
       "0                         601.0                         730.0   \n",
       "1                           0.0                           0.0   \n",
       "2                         163.0                         458.0   \n",
       "3                           0.0                           0.0   \n",
       "4                           0.0                           0.0   \n",
       "\n",
       "   Personnel Department          price  year  zipcode  \n",
       "0                  18.0  556266.666667  2011    90019  \n",
       "1                   0.0  319333.333333  2011    75039  \n",
       "2                   2.0  484600.000000  2011    91367  \n",
       "3                   0.0  145500.000000  2011    33569  \n",
       "4                   0.0  175016.666667  2011    14450  \n",
       "\n",
       "[5 rows x 64 columns]"
      ]
     },
     "execution_count": 200,
     "metadata": {},
     "output_type": "execute_result"
    }
   ],
   "source": [
    "la_df = build_df('la', range(2011, 2016))\n",
    "la_df.head()"
   ]
  },
  {
   "cell_type": "code",
   "execution_count": 201,
   "metadata": {
    "collapsed": true
   },
   "outputs": [],
   "source": [
    "complaints = la_df.drop(['price', 'year', 'zipcode'], axis=1)\n",
    "la_df['total_complaints'] = complaints.sum(1)"
   ]
  },
  {
   "cell_type": "code",
   "execution_count": 202,
   "metadata": {
    "collapsed": true
   },
   "outputs": [],
   "source": [
    "la_X = la_df.drop(['price', 'year', 'zipcode'], 1)\n",
    "la_columns = la_X.columns\n",
    "la_X = np.array(la_X)\n",
    "la_y = np.array(la_df.loc[:, 'price'])"
   ]
  },
  {
   "cell_type": "code",
   "execution_count": 203,
   "metadata": {
    "collapsed": false
   },
   "outputs": [
    {
     "name": "stdout",
     "output_type": "stream",
     "text": [
      "Average MSE: 196061.71044047733\n",
      "Average MSE: 401844.69529769185\n",
      "Average MSE: 188903.29111183318\n",
      "Average MSE: 212291.70570944896\n"
     ]
    },
    {
     "name": "stderr",
     "output_type": "stream",
     "text": [
      "/home/sam/anaconda3/lib/python3.5/site-packages/sklearn/linear_model/coordinate_descent.py:484: ConvergenceWarning: Objective did not converge. You might want to increase the number of iterations. Fitting data with very small alpha may cause precision problems.\n",
      "  ConvergenceWarning)\n"
     ]
    },
    {
     "name": "stdout",
     "output_type": "stream",
     "text": [
      "Average MSE: 214949.7311342499\n"
     ]
    }
   ],
   "source": [
    "random_forest = RandomForestRegressor(n_estimators=100, n_jobs=-1)\n",
    "ada = AdaBoostRegressor(n_estimators=100)\n",
    "grad = GradientBoostingRegressor(n_estimators=100)\n",
    "ridge = Ridge(0.1, normalize=True, max_iter=10000)\n",
    "lasso = Lasso(0.1, normalize=True, max_iter=10000)\n",
    "\n",
    "evaluate_regressor(random_forest,la_X, la_y)\n",
    "evaluate_regressor(ada, la_X, la_y)\n",
    "evaluate_regressor(grad, la_X, la_y)\n",
    "evaluate_regressor(ridge, la_X, la_y)\n",
    "evaluate_regressor(lasso, la_X, la_y)"
   ]
  },
  {
   "cell_type": "code",
   "execution_count": 204,
   "metadata": {
    "collapsed": false
   },
   "outputs": [
    {
     "name": "stdout",
     "output_type": "stream",
     "text": [
      "Parameter: 'Asbestos/Garbage Nuisance' had an effect of size: 0.19187235841951128\n",
      "Parameter: 'DOF Property - Update Account' had an effect of size: 0.10320732577654203\n",
      "Parameter: 'Consumer Complaint' had an effect of size: 0.05898932512782488\n",
      "Parameter: 'Construction' had an effect of size: 0.04924746133757397\n",
      "Parameter: 'Agency Issues' had an effect of size: 0.0463300936777556\n",
      "Parameter: 'DHS Advantage -Landlord/Broker' had an effect of size: 0.04458003562464866\n",
      "Parameter: 'Advocate-Personal Exemptions' had an effect of size: 0.044257173917013344\n",
      "Parameter: 'Bus Stop Shelter Placement' had an effect of size: 0.04073496092857267\n",
      "Parameter: 'DOF Property - Property Value' had an effect of size: 0.037696216040929015\n",
      "Parameter: 'BEST/Site Safety' had an effect of size: 0.031553830271551314\n"
     ]
    }
   ],
   "source": [
    "important_features(random_forest.feature_importances_, 10)"
   ]
  },
  {
   "cell_type": "code",
   "execution_count": 205,
   "metadata": {
    "collapsed": false
   },
   "outputs": [
    {
     "name": "stdout",
     "output_type": "stream",
     "text": [
      "Parameter: 'Asbestos/Garbage Nuisance' had an effect of size: 0.09361936514176927\n",
      "Parameter: 'Construction' had an effect of size: 0.09040697305081313\n",
      "Parameter: 'BEST/Site Safety' had an effect of size: 0.08271777846712419\n",
      "Parameter: 'DHS Advantage -Landlord/Broker' had an effect of size: 0.0623289309056054\n",
      "Parameter: 'Agency Issues' had an effect of size: 0.05445178289167641\n",
      "Parameter: 'DOF Property - City Rebate' had an effect of size: 0.04658663206514684\n",
      "Parameter: 'DOF Property - Update Account' had an effect of size: 0.04401726367042267\n",
      "Parameter: 'Bike/Roller/Skate Chronic' had an effect of size: 0.04355293936893787\n",
      "Parameter: 'Advocate-Commercial Exemptions' had an effect of size: 0.04302522777431728\n",
      "Parameter: 'DOF Property - Request Copy' had an effect of size: 0.03906911045343461\n"
     ]
    }
   ],
   "source": [
    "important_features(grad.feature_importances_, 10)"
   ]
  },
  {
   "cell_type": "code",
   "execution_count": 206,
   "metadata": {
    "collapsed": true
   },
   "outputs": [],
   "source": [
    "from sklearn.decomposition import PCA, FastICA"
   ]
  },
  {
   "cell_type": "code",
   "execution_count": 207,
   "metadata": {
    "collapsed": true
   },
   "outputs": [],
   "source": [
    "pca = PCA(10)\n",
    "pca_X = pca.fit_transform(la_X)\n",
    "\n",
    "ica = FastICA(10)\n",
    "ica_X = ica.fit_transform(la_X)"
   ]
  },
  {
   "cell_type": "code",
   "execution_count": 208,
   "metadata": {
    "collapsed": false
   },
   "outputs": [
    {
     "name": "stdout",
     "output_type": "stream",
     "text": [
      "Average MSE: 200756.7884868579\n",
      "Average MSE: 203160.16611893493\n"
     ]
    }
   ],
   "source": [
    "random_forest = RandomForestRegressor(n_estimators=100, n_jobs=-1)\n",
    "\n",
    "evaluate_regressor(random_forest, pca_X, la_y)\n",
    "evaluate_regressor(random_forest, ica_X, la_y)"
   ]
  },
  {
   "cell_type": "code",
   "execution_count": 209,
   "metadata": {
    "collapsed": false
   },
   "outputs": [],
   "source": [
    "la_complaints = la_df.loc[:, ['total_complaints', 'price']]\n",
    "nyc_complaints = nyc_df.loc[:, ['total_complaints', 'price']]\n",
    "\n",
    "total_complaints = pd.concat([la_complaints, nyc_complaints])\n",
    "total_complaints.rename(columns={'total_complaints': 'num_complaints'}, inplace=True)"
   ]
  },
  {
   "cell_type": "code",
   "execution_count": 210,
   "metadata": {
    "collapsed": false
   },
   "outputs": [
    {
     "data": {
      "text/plain": [
       "<seaborn.axisgrid.FacetGrid at 0x7f03ea09b2b0>"
      ]
     },
     "execution_count": 210,
     "metadata": {},
     "output_type": "execute_result"
    },
    {
     "data": {
      "image/png": "[encoded data removed]",
      "text/plain": [
       "<matplotlib.figure.Figure at 0x7f03ea09bd30>"
      ]
     },
     "metadata": {},
     "output_type": "display_data"
    }
   ],
   "source": [
    "g = sns.lmplot(x='num_complaints', y='price', data=total_complaints, x_jitter=0.5, y_jitter=0.5)\n",
    "g.set(xlim=(0,None), ylim=(0,None))\n",
    "g"
   ]
  },
  {
   "cell_type": "code",
   "execution_count": 211,
   "metadata": {
    "collapsed": true
   },
   "outputs": [],
   "source": [
    "from sklearn.linear_model import LinearRegression\n",
    "from sklearn.metrics import r2_score"
   ]
  },
  {
   "cell_type": "code",
   "execution_count": 212,
   "metadata": {
    "collapsed": false
   },
   "outputs": [
    {
     "name": "stdout",
     "output_type": "stream",
     "text": [
      "Effect Size: 16.439693707799627\n",
      "p-value: 3.585609328853598e-54\n",
      "R2 Score: 0.029865471746300387\n"
     ]
    }
   ],
   "source": [
    "linear = LinearRegression()\n",
    "X = np.array(total_complaints['num_complaints']).reshape(-1,1)\n",
    "y = np.array(total_complaints['price']).reshape(-1,1)\n",
    "linear.fit(X, y)\n",
    "print(\"Effect Size: {}\".format(linear.coef_[0,0]))\n",
    "print(\"p-value: {}\".format(f_regression(X, y.ravel())[1][0]))\n",
    "print(\"R2 Score: {}\".format(r2_score(y, linear.predict(X))))"
   ]
  },
  {
   "cell_type": "markdown",
   "metadata": {},
   "source": [
    "# Conclusion\n",
    "\n",
    "In summary, the following points have been observed:\n",
    "\n",
    "1. 311 data alone is no wear near descriptive enough to capture/predict the housing market. All regressors tested performed inadequately for predicting the housing market of a zipcode, with mean absolute error for NYC at around $120,000 dollars and LA at around $190,000. Predicting the housing market is a complicated task with millions of dollars poored into attempting to find a good model by industry.\n",
    "\n",
    "2. The best performing regressors for both cities were Random Forest Regressors and Gradient Boosted Regressors, both of them decision-tree based ensemble regressors. For each city, I printed out the top 10 most important independent variables for the prediction for each of these methods. Both regressors got similar results although their order differs. For NYC noise, taxi complaints, electric issues, and the overall number of complaints were some of the most important features. For LA asbestos, construction, and safety issues were the most important.\n",
    "\n",
    "3. Finally, a linear model based on only the total number of complaints for both cities was created to determine the correlation between number of yearly complaints and price, as well as a scatter plot with fit curve to show the correlation visually. As you can see from this, the scatter plot has a lot of outliers and the R2 score for the model is a poor 0.03, showing that once again that only looking at this one feature produces a model with very high bias. However, the measured effect size that number of complaints had in this linear model was 16.44 with a statistically significant p-value of 3.59e-54. This means that our model found out that each complaint is correlated with an increase in real estate value by $16.44. This supports the idea we had that in more expensive locations, people are more likely to complain and file 311 reports.\n",
    "\n",
    "4. Going along with the above, it does not appear possible to pay more in order to live in a zip code with less 311 reports. In fact, by our model it would appear that the opposite it true, but this again is probably due to people in poorer areas filing less reports about issues in the first place."
   ]
  }
 ],
 "metadata": {
  "anaconda-cloud": {},
  "kernelspec": {
   "display_name": "Python [conda root]",
   "language": "python",
   "name": "conda-root-py"
  }
 },
 "nbformat": 4,
 "nbformat_minor": 1
}
